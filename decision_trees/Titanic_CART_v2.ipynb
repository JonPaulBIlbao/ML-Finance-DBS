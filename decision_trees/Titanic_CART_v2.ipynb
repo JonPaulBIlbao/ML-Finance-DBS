{
  "nbformat": 4,
  "nbformat_minor": 0,
  "metadata": {
    "colab": {
      "provenance": [],
      "toc_visible": true,
      "mount_file_id": "1hAWw1Acys7pEwNwEvlc0Q9KqowHu4iyB",
      "authorship_tag": "ABX9TyMLQkIzie2nzrvZYX3KQFOY",
      "include_colab_link": true
    },
    "kernelspec": {
      "name": "python3",
      "display_name": "Python 3"
    },
    "language_info": {
      "name": "python"
    }
  },
  "cells": [
    {
      "cell_type": "markdown",
      "metadata": {
        "id": "view-in-github",
        "colab_type": "text"
      },
      "source": [
        "<a href=\"https://colab.research.google.com/github/JonPaulBIlbao/ML-Finance-DBS/blob/Machine-Learning-in-Finance-DBS/decision_trees/Titanic_CART_v2.ipynb\" target=\"_parent\"><img src=\"https://colab.research.google.com/assets/colab-badge.svg\" alt=\"Open In Colab\"/></a>"
      ]
    },
    {
      "cell_type": "markdown",
      "source": [
        "# Decision Trees (CART) with Python"
      ],
      "metadata": {
        "id": "Vn-jWm6Eebex"
      }
    },
    {
      "cell_type": "markdown",
      "source": [
        "**1.\n",
        "Python packages**"
      ],
      "metadata": {
        "id": "IEtddj0kxdtV"
      }
    },
    {
      "cell_type": "code",
      "execution_count": 6,
      "metadata": {
        "id": "Pi76It9wxccM"
      },
      "outputs": [],
      "source": [
        "# Required packages\n",
        "import pandas as pd\n",
        "import numpy as np\n",
        "import matplotlib.pyplot as plt\n",
        "import seaborn as sns\n",
        "from sklearn.tree import DecisionTreeClassifier, plot_tree\n",
        "from sklearn import tree\n",
        "from sklearn.model_selection import train_test_split\n",
        "from sklearn.metrics import classification_report, confusion_matrix\n",
        "from scipy.stats import chi2_contingency\n"
      ]
    },
    {
      "cell_type": "markdown",
      "source": [
        "**2. Loading data**"
      ],
      "metadata": {
        "id": "V6pGB8Uux29R"
      }
    },
    {
      "cell_type": "code",
      "source": [
        "titanic_train = pd.read_csv(\"https://raw.githubusercontent.com/JonPaulBIlbao/ML-Finance-DBS/Machine-Learning-in-Finance-DBS/decision_trees/train.csv\")\n",
        "titanic_test = pd.read_csv(\"https://raw.githubusercontent.com/JonPaulBIlbao/ML-Finance-DBS/Machine-Learning-in-Finance-DBS/decision_trees/test.csv\")"
      ],
      "metadata": {
        "id": "hPrqsONLx5P6"
      },
      "execution_count": 7,
      "outputs": []
    },
    {
      "cell_type": "markdown",
      "source": [
        "**3. Explore and prepare data**\n",
        "\n"
      ],
      "metadata": {
        "id": "kBZy78yQyNmV"
      }
    },
    {
      "cell_type": "code",
      "source": [
        "print(titanic_train.info())\n",
        "print(titanic_train.describe(include='all'))\n",
        "\n",
        "# Convert 'Survived' to category\n",
        "titanic_train['Survived'] = titanic_train['Survived'].astype('category')\n",
        "\n",
        "# Crosstab: Survival by Sex\n",
        "print(pd.crosstab(titanic_train['Survived'], titanic_train['Sex']))\n",
        "print(chi2_contingency(pd.crosstab(titanic_train['Survived'], titanic_train['Sex'])))\n",
        "print(pd.crosstab(titanic_train['Survived'], titanic_train['Sex'], normalize='columns') * 100)\n",
        "\n",
        "# Bar plots for Parch and SibSp\n",
        "sns.countplot(x='Parch', data=titanic_train)\n",
        "plt.title(\"Number of Parents/Children Aboard\")\n",
        "plt.show()\n",
        "\n",
        "sns.countplot(x='SibSp', data=titanic_train)\n",
        "plt.title(\"Number of Siblings/Spouses Aboard\")\n",
        "plt.show()\n",
        "\n",
        "# Create \"Alone\" feature\n",
        "titanic_train['Alone'] = np.where((titanic_train['Parch'] == 0) & (titanic_train['SibSp'] == 0), 1, 0)\n",
        "titanic_train['Alone'] = titanic_train['Alone'].map({0: 'Not Alone', 1: 'Alone'}).astype('category')\n",
        "\n",
        "# Crosstab Alone vs Survived\n",
        "print(pd.crosstab(titanic_train['Survived'], titanic_train['Alone'], normalize='columns') * 100)\n",
        "print(chi2_contingency(pd.crosstab(titanic_train['Survived'], titanic_train['Alone'])))\n"
      ],
      "metadata": {
        "colab": {
          "base_uri": "https://localhost:8080/",
          "height": 1000
        },
        "id": "tvj4o4vhyNT-",
        "outputId": "fd46cfbe-88f4-4cf5-e828-a0c9d0bb4ff7"
      },
      "execution_count": 8,
      "outputs": [
        {
          "output_type": "stream",
          "name": "stdout",
          "text": [
            "<class 'pandas.core.frame.DataFrame'>\n",
            "RangeIndex: 891 entries, 0 to 890\n",
            "Data columns (total 12 columns):\n",
            " #   Column       Non-Null Count  Dtype  \n",
            "---  ------       --------------  -----  \n",
            " 0   PassengerId  891 non-null    int64  \n",
            " 1   Survived     891 non-null    int64  \n",
            " 2   Pclass       891 non-null    int64  \n",
            " 3   Name         891 non-null    object \n",
            " 4   Sex          891 non-null    object \n",
            " 5   Age          714 non-null    float64\n",
            " 6   SibSp        891 non-null    int64  \n",
            " 7   Parch        891 non-null    int64  \n",
            " 8   Ticket       891 non-null    object \n",
            " 9   Fare         891 non-null    float64\n",
            " 10  Cabin        204 non-null    object \n",
            " 11  Embarked     889 non-null    object \n",
            "dtypes: float64(2), int64(5), object(5)\n",
            "memory usage: 83.7+ KB\n",
            "None\n",
            "        PassengerId    Survived      Pclass                 Name   Sex  \\\n",
            "count    891.000000  891.000000  891.000000                  891   891   \n",
            "unique          NaN         NaN         NaN                  891     2   \n",
            "top             NaN         NaN         NaN  Dooley, Mr. Patrick  male   \n",
            "freq            NaN         NaN         NaN                    1   577   \n",
            "mean     446.000000    0.383838    2.308642                  NaN   NaN   \n",
            "std      257.353842    0.486592    0.836071                  NaN   NaN   \n",
            "min        1.000000    0.000000    1.000000                  NaN   NaN   \n",
            "25%      223.500000    0.000000    2.000000                  NaN   NaN   \n",
            "50%      446.000000    0.000000    3.000000                  NaN   NaN   \n",
            "75%      668.500000    1.000000    3.000000                  NaN   NaN   \n",
            "max      891.000000    1.000000    3.000000                  NaN   NaN   \n",
            "\n",
            "               Age       SibSp       Parch  Ticket        Fare Cabin Embarked  \n",
            "count   714.000000  891.000000  891.000000     891  891.000000   204      889  \n",
            "unique         NaN         NaN         NaN     681         NaN   147        3  \n",
            "top            NaN         NaN         NaN  347082         NaN    G6        S  \n",
            "freq           NaN         NaN         NaN       7         NaN     4      644  \n",
            "mean     29.699118    0.523008    0.381594     NaN   32.204208   NaN      NaN  \n",
            "std      14.526497    1.102743    0.806057     NaN   49.693429   NaN      NaN  \n",
            "min       0.420000    0.000000    0.000000     NaN    0.000000   NaN      NaN  \n",
            "25%      20.125000    0.000000    0.000000     NaN    7.910400   NaN      NaN  \n",
            "50%      28.000000    0.000000    0.000000     NaN   14.454200   NaN      NaN  \n",
            "75%      38.000000    1.000000    0.000000     NaN   31.000000   NaN      NaN  \n",
            "max      80.000000    8.000000    6.000000     NaN  512.329200   NaN      NaN  \n",
            "Sex       female  male\n",
            "Survived              \n",
            "0             81   468\n",
            "1            233   109\n",
            "Chi2ContingencyResult(statistic=np.float64(260.71702016732104), pvalue=np.float64(1.1973570627755645e-58), dof=1, expected_freq=array([[193.47474747, 355.52525253],\n",
            "       [120.52525253, 221.47474747]]))\n",
            "Sex          female       male\n",
            "Survived                      \n",
            "0         25.796178  81.109185\n",
            "1         74.203822  18.890815\n"
          ]
        },
        {
          "output_type": "display_data",
          "data": {
            "text/plain": [
              "<Figure size 640x480 with 1 Axes>"
            ],
            "image/png": "[encoded data removed]"
          },
          "metadata": {}
        },
        {
          "output_type": "display_data",
          "data": {
            "text/plain": [
              "<Figure size 640x480 with 1 Axes>"
            ],
            "image/png": "[encoded data removed]"
          },
          "metadata": {}
        },
        {
          "output_type": "stream",
          "name": "stdout",
          "text": [
            "Alone         Alone  Not Alone\n",
            "Survived                      \n",
            "0         69.646182  49.435028\n",
            "1         30.353818  50.564972\n",
            "Chi2ContingencyResult(statistic=np.float64(36.00051446773864), pvalue=np.float64(1.9726543846517183e-09), dof=1, expected_freq=array([[330.87878788, 218.12121212],\n",
            "       [206.12121212, 135.87878788]]))\n"
          ]
        }
      ]
    },
    {
      "cell_type": "code",
      "source": [
        "# Minimal preprocessing for decision trees\n",
        "features = ['Sex', 'Embarked', 'Parch', 'SibSp', 'Pclass']\n",
        "titanic_train = titanic_train.dropna(subset=features + ['Survived'])\n",
        "\n",
        "# Convert categorical vars\n",
        "X = pd.get_dummies(titanic_train[features])\n",
        "y = titanic_train['Survived']\n",
        "\n",
        "# tree0: default settings\n",
        "tree0 = DecisionTreeClassifier(criterion='entropy', random_state=42)\n",
        "tree0.fit(X, y)\n",
        "\n",
        "# Plot tree0\n",
        "plt.figure(figsize=(12, 6))\n",
        "plot_tree(tree0, feature_names=X.columns, class_names=[\"No\", \"Yes\"], filled=True)\n",
        "plt.title(\"Titanic CART Tree – tree0\")\n",
        "plt.show()\n"
      ],
      "metadata": {
        "collapsed": true,
        "id": "1Y98or_qyXPl"
      },
      "execution_count": null,
      "outputs": []
    },
    {
      "cell_type": "code",
      "source": [
        "tree1 = DecisionTreeClassifier(criterion='entropy', min_samples_split=20, ccp_alpha=0.01, random_state=42)\n",
        "tree1.fit(X, y)\n",
        "\n",
        "# Plot tree1\n",
        "plt.figure(figsize=(58, 18))\n",
        "plot_tree(tree1, feature_names=X.columns, class_names=[\"No\", \"Yes\"], filled=True)\n",
        "plt.title(\"Titanic CART Tree – tree1\")\n",
        "plt.show()\n"
      ],
      "metadata": {
        "collapsed": true,
        "id": "E25xDXE4ye4g"
      },
      "execution_count": null,
      "outputs": []
    },
    {
      "cell_type": "code",
      "source": [
        "plt.figure(figsize=(48, 24))  # Make the figure larger\n",
        "plot_tree(tree1, feature_names=X.columns, class_names=[\"No\", \"Yes\"], filled=True)\n",
        "plt.title(\"Titanic CART Tree – tree1\")\n",
        "plt.savefig(\"tree1_highres.png\", dpi=300, bbox_inches=\"tight\")\n",
        "plt.show()\n"
      ],
      "metadata": {
        "id": "4NMmCNXRzLsB"
      },
      "execution_count": null,
      "outputs": []
    },
    {
      "cell_type": "code",
      "source": [
        "X_test = pd.get_dummies(titanic_test[features])\n",
        "# Match columns to training set\n",
        "X_test = X_test.reindex(columns=X.columns, fill_value=0)\n",
        "\n",
        "titanic_test['pred_class_tree0'] = tree0.predict(X_test)\n",
        "titanic_test['pred_class_tree1'] = tree1.predict(X_test)\n",
        "\n",
        "# Compare tree0 and tree1\n",
        "print(pd.crosstab(titanic_test['pred_class_tree0'], titanic_test['pred_class_tree1']))\n"
      ],
      "metadata": {
        "id": "QdOOOt-uylOz"
      },
      "execution_count": null,
      "outputs": []
    }
  ]
}