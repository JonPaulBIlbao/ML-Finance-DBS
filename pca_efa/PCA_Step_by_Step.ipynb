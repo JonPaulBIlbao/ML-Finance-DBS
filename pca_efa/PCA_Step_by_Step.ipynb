{
  "cells": [
    {
      "cell_type": "markdown",
      "metadata": {
        "id": "view-in-github",
        "colab_type": "text"
      },
      "source": [
        "<a href=\"https://colab.research.google.com/github/JonPaulBIlbao/ML-Finance-DBS/blob/Machine-Learning-in-Finance-DBS/PCA_Step_by_Step.ipynb\" target=\"_parent\"><img src=\"https://colab.research.google.com/assets/colab-badge.svg\" alt=\"Open In Colab\"/></a>"
      ]
    },
    {
      "cell_type": "markdown",
      "id": "e6303f2e",
      "metadata": {
        "id": "e6303f2e"
      },
      "source": [
        "# Machine Learning in Finance 2024/25  \n",
        "## PCA Step-by-Step in Python  \n",
        "This notebook performs PCA manually: data standardization, eigen decomposition, component scores, and reconstruction."
      ]
    },
    {
      "cell_type": "markdown",
      "id": "3ba9d0d3",
      "metadata": {
        "id": "3ba9d0d3"
      },
      "source": [
        "## Imports"
      ]
    },
    {
      "cell_type": "code",
      "execution_count": 2,
      "id": "b4e16051",
      "metadata": {
        "id": "b4e16051"
      },
      "outputs": [],
      "source": [
        "import pandas as pd\n",
        "import numpy as np\n",
        "import matplotlib.pyplot as plt\n",
        "from sklearn.preprocessing import StandardScaler\n",
        "from scipy.stats import zscore\n",
        "from numpy.linalg import eig\n",
        "import seaborn as sns"
      ]
    },
    {
      "cell_type": "markdown",
      "id": "e28fdc41",
      "metadata": {
        "id": "e28fdc41"
      },
      "source": [
        "## Load data and show summary statistics"
      ]
    },
    {
      "cell_type": "code",
      "execution_count": 3,
      "id": "0572235a",
      "metadata": {
        "colab": {
          "base_uri": "https://localhost:8080/"
        },
        "id": "0572235a",
        "outputId": "68310014-82b8-4acc-e89b-69c1b65773f8"
      },
      "outputs": [
        {
          "output_type": "stream",
          "name": "stdout",
          "text": [
            "<class 'pandas.core.frame.DataFrame'>\n",
            "RangeIndex: 50 entries, 0 to 49\n",
            "Data columns (total 2 columns):\n",
            " #   Column  Non-Null Count  Dtype  \n",
            "---  ------  --------------  -----  \n",
            " 0   v1      50 non-null     float64\n",
            " 1   v2      50 non-null     float64\n",
            "dtypes: float64(2)\n",
            "memory usage: 932.0 bytes\n",
            "None\n",
            "              v1          v2\n",
            "count  50.000000   50.000000\n",
            "mean    7.444000  211.300000\n",
            "std     3.866769  100.253049\n",
            "min     0.900000   43.800000\n",
            "25%     4.225000  148.850000\n",
            "50%     7.300000  197.600000\n",
            "75%    10.100000  282.575000\n",
            "max    15.800000  485.300000\n",
            "Standard Deviations:\n",
            " v1      3.866769\n",
            "v2    100.253049\n",
            "dtype: float64\n",
            "Variances:\n",
            " v1       14.951902\n",
            "v2    10050.673878\n",
            "dtype: float64\n"
          ]
        }
      ],
      "source": [
        "url = \"https://raw.githubusercontent.com/JonPaulBIlbao/ML-Finance-DBS/Machine-Learning-in-Finance-DBS/pca_efa/PCA_2_var.csv\"\n",
        "data = pd.read_csv(url, sep=';', decimal=',')[['v1', 'v2']]\n",
        "\n",
        "print(data.info())\n",
        "print(data.describe())\n",
        "print(\"Standard Deviations:\\n\", data.std())\n",
        "print(\"Variances:\\n\", data.var())"
      ]
    },
    {
      "cell_type": "markdown",
      "id": "5b6ecbce",
      "metadata": {
        "id": "5b6ecbce"
      },
      "source": [
        "## Scatter plot of original variables"
      ]
    },
    {
      "cell_type": "code",
      "execution_count": 4,
      "id": "02cf72e0",
      "metadata": {
        "colab": {
          "base_uri": "https://localhost:8080/",
          "height": 472
        },
        "id": "02cf72e0",
        "outputId": "26dacd45-a062-420f-8240-5ada8a5aa1f0"
      },
      "outputs": [
        {
          "output_type": "display_data",
          "data": {
            "text/plain": [
              "<Figure size 640x480 with 1 Axes>"
            ],
            "image/png": "[encoded data removed]"
          },
          "metadata": {}
        }
      ],
      "source": [
        "plt.scatter(data['v1'], data['v2'], color='black')\n",
        "plt.title(\"Scatter Plot of v1 vs v2\")\n",
        "plt.xlabel(\"v1\")\n",
        "plt.ylabel(\"v2\")\n",
        "plt.grid(True)\n",
        "plt.show()"
      ]
    },
    {
      "cell_type": "markdown",
      "id": "4030b6bc",
      "metadata": {
        "id": "4030b6bc"
      },
      "source": [
        "## Standardization"
      ]
    },
    {
      "cell_type": "code",
      "execution_count": 5,
      "id": "02497a8e",
      "metadata": {
        "colab": {
          "base_uri": "https://localhost:8080/"
        },
        "id": "02497a8e",
        "outputId": "0705a363-5a36-4883-e8cc-7843dcf26e61"
      },
      "outputs": [
        {
          "output_type": "stream",
          "name": "stdout",
          "text": [
            "          scaled_v1     scaled_v2\n",
            "count  5.000000e+01  5.000000e+01\n",
            "mean   6.661338e-18 -1.187939e-16\n",
            "std    1.010153e+00  1.010153e+00\n",
            "min   -1.709551e+00 -1.687735e+00\n",
            "25%   -8.409298e-01 -6.292480e-01\n",
            "50%   -3.761848e-02 -1.380416e-01\n",
            "75%    6.938519e-01  7.181689e-01\n",
            "max    2.182917e+00  2.760832e+00\n",
            "Variances of standardized data:\n",
            " scaled_v1    1.0\n",
            "scaled_v2    1.0\n",
            "dtype: float64\n"
          ]
        }
      ],
      "source": [
        "scaler = StandardScaler()\n",
        "scaled_data = scaler.fit_transform(data)\n",
        "scaled_df = pd.DataFrame(scaled_data, columns=['scaled_v1', 'scaled_v2'])\n",
        "\n",
        "print(scaled_df.describe())\n",
        "print(\"Variances of standardized data:\\n\", scaled_df.var(ddof=0))"
      ]
    },
    {
      "cell_type": "markdown",
      "id": "a925b287",
      "metadata": {
        "id": "a925b287"
      },
      "source": [
        "## Scatter plot of standardized variables"
      ]
    },
    {
      "cell_type": "code",
      "execution_count": 6,
      "id": "bade53f1",
      "metadata": {
        "colab": {
          "base_uri": "https://localhost:8080/",
          "height": 472
        },
        "id": "bade53f1",
        "outputId": "79053921-6d49-44cb-dcff-b33cebbec676"
      },
      "outputs": [
        {
          "output_type": "display_data",
          "data": {
            "text/plain": [
              "<Figure size 640x480 with 1 Axes>"
            ],
            "image/png": "[encoded data removed]"
          },
          "metadata": {}
        }
      ],
      "source": [
        "plt.scatter(scaled_df['scaled_v1'], scaled_df['scaled_v2'], color='black')\n",
        "plt.title(\"Scatter Plot of Standardized v1 and v2\")\n",
        "plt.xlabel(\"scaled_v1\")\n",
        "plt.ylabel(\"scaled_v2\")\n",
        "plt.grid(True)\n",
        "plt.show()"
      ]
    },
    {
      "cell_type": "markdown",
      "id": "b131b764",
      "metadata": {
        "id": "b131b764"
      },
      "source": [
        "## Correlation matrix and eigen decomposition"
      ]
    },
    {
      "cell_type": "code",
      "execution_count": 7,
      "id": "f91f22fb",
      "metadata": {
        "colab": {
          "base_uri": "https://localhost:8080/"
        },
        "id": "f91f22fb",
        "outputId": "4dadc09b-a8a7-49f1-8430-4bad8ae1341e"
      },
      "outputs": [
        {
          "output_type": "stream",
          "name": "stdout",
          "text": [
            "Correlation matrix R:\n",
            " [[1.         0.64855048]\n",
            " [0.64855048 1.        ]]\n",
            "Trace of R: 1.9999999999999996\n",
            "Eigenvalues:\n",
            " [1.64855048 0.35144952]\n",
            "Eigenvectors (columns):\n",
            " [[ 0.70710678 -0.70710678]\n",
            " [ 0.70710678  0.70710678]]\n"
          ]
        }
      ],
      "source": [
        "R = np.corrcoef(scaled_data.T)\n",
        "print(\"Correlation matrix R:\\n\", R)\n",
        "print(\"Trace of R:\", np.trace(R))\n",
        "\n",
        "eigenvalues, eigenvectors = eig(R)\n",
        "print(\"Eigenvalues:\\n\", eigenvalues)\n",
        "print(\"Eigenvectors (columns):\\n\", eigenvectors)"
      ]
    },
    {
      "cell_type": "markdown",
      "id": "66e39603",
      "metadata": {
        "id": "66e39603"
      },
      "source": [
        "## Diagonal matrix of eigenvalues and verification"
      ]
    },
    {
      "cell_type": "code",
      "execution_count": 8,
      "id": "432029b4",
      "metadata": {
        "colab": {
          "base_uri": "https://localhost:8080/"
        },
        "id": "432029b4",
        "outputId": "f4a27c79-519e-463e-b949-d5984589fb9c"
      },
      "outputs": [
        {
          "output_type": "stream",
          "name": "stdout",
          "text": [
            "Diagonal matrix Lambda:\n",
            " [[1.64855048 0.        ]\n",
            " [0.         0.35144952]]\n",
            "Trace of Lambda: 1.9999999999999996\n",
            "Check U.T @ U (should be identity):\n",
            " [[1. 0.]\n",
            " [0. 1.]]\n"
          ]
        }
      ],
      "source": [
        "Lambda = np.diag(eigenvalues)\n",
        "print(\"Diagonal matrix Lambda:\\n\", Lambda)\n",
        "print(\"Trace of Lambda:\", np.trace(Lambda))\n",
        "\n",
        "print(\"Check U.T @ U (should be identity):\\n\", np.round(eigenvectors.T @ eigenvectors, 4))"
      ]
    },
    {
      "cell_type": "markdown",
      "id": "ef857e32",
      "metadata": {
        "id": "ef857e32"
      },
      "source": [
        "## Reconstruct the correlation matrix"
      ]
    },
    {
      "cell_type": "code",
      "execution_count": 9,
      "id": "b6d4b464",
      "metadata": {
        "colab": {
          "base_uri": "https://localhost:8080/"
        },
        "id": "b6d4b464",
        "outputId": "20952933-31fe-43e1-8252-ab27117b7b03"
      },
      "outputs": [
        {
          "output_type": "stream",
          "name": "stdout",
          "text": [
            "Reconstructed R:\n",
            " [[1.         0.64855048]\n",
            " [0.64855048 1.        ]]\n",
            "Difference from original R:\n",
            " [[2.22044605e-16 1.11022302e-16]\n",
            " [1.11022302e-16 2.22044605e-16]]\n"
          ]
        }
      ],
      "source": [
        "reconstructed_R = eigenvectors @ Lambda @ eigenvectors.T\n",
        "print(\"Reconstructed R:\\n\", reconstructed_R)\n",
        "print(\"Difference from original R:\\n\", R - reconstructed_R)"
      ]
    },
    {
      "cell_type": "markdown",
      "id": "71eca60b",
      "metadata": {
        "id": "71eca60b"
      },
      "source": [
        "## Compute component loadings"
      ]
    },
    {
      "cell_type": "code",
      "execution_count": 10,
      "id": "4b5866fe",
      "metadata": {
        "colab": {
          "base_uri": "https://localhost:8080/"
        },
        "id": "4b5866fe",
        "outputId": "9b498197-3ef4-4f83-c931-c4e1a3abbd70"
      },
      "outputs": [
        {
          "output_type": "stream",
          "name": "stdout",
          "text": [
            "Loadings:\n",
            " [[ 0.90789605 -0.41919537]\n",
            " [ 0.90789605  0.41919537]]\n",
            "Loadings.T @ Loadings:\n",
            " [[1.64855048e+00 2.32784976e-17]\n",
            " [2.32784976e-17 3.51449518e-01]]\n",
            "Loadings @ Loadings.T:\n",
            " [[1.         0.64855048]\n",
            " [0.64855048 1.        ]]\n"
          ]
        }
      ],
      "source": [
        "loadings = eigenvectors @ np.sqrt(Lambda)\n",
        "print(\"Loadings:\\n\", loadings)\n",
        "\n",
        "print(\"Loadings.T @ Loadings:\\n\", loadings.T @ loadings)\n",
        "print(\"Loadings @ Loadings.T:\\n\", loadings @ loadings.T)"
      ]
    },
    {
      "cell_type": "markdown",
      "id": "5b7a72e5",
      "metadata": {
        "id": "5b7a72e5"
      },
      "source": [
        "## PCA scores (manual projection)"
      ]
    },
    {
      "cell_type": "code",
      "source": [
        "z_manual = (data - data.mean()) / data.std(ddof=1)\n",
        "print(z_manual.head())"
      ],
      "metadata": {
        "colab": {
          "base_uri": "https://localhost:8080/"
        },
        "id": "Nn_ZpmjciSyE",
        "outputId": "329c4e55-8228-400e-cf1b-aaa7782dc9e3"
      },
      "id": "Nn_ZpmjciSyE",
      "execution_count": 12,
      "outputs": [
        {
          "output_type": "stream",
          "name": "stdout",
          "text": [
            "         v1        v2\n",
            "0  1.747195  0.668309\n",
            "1  0.867908  0.725165\n",
            "2  0.531710  1.007451\n",
            "3  0.350680 -0.078801\n",
            "4  1.048938  1.463297\n"
          ]
        }
      ]
    },
    {
      "cell_type": "code",
      "execution_count": 22,
      "id": "ce88b5b9",
      "metadata": {
        "colab": {
          "base_uri": "https://localhost:8080/"
        },
        "id": "ce88b5b9",
        "outputId": "cb8bb18c-9167-483c-e5a2-2a5474a3bfcb"
      },
      "outputs": [
        {
          "output_type": "stream",
          "name": "stdout",
          "text": [
            "PC1    float64\n",
            "PC2    float64\n",
            "dtype: object\n",
            "           PC1      PC2\n",
            "count  50.0000  50.0000\n",
            "mean   -0.0000  -0.0000\n",
            "std     1.2840   0.5928\n",
            "min    -2.3781  -1.4103\n",
            "25%    -1.0433  -0.3756\n",
            "50%    -0.1414   0.0023\n",
            "75%     1.0949   0.3198\n",
            "max     2.7474   1.1733\n"
          ]
        }
      ],
      "source": [
        "pca_scores = np.asarray(z_manual @ eigenvectors)\n",
        "pca_df = pd.DataFrame(pca_scores, columns=['PC1', 'PC2'])\n",
        "print(pca_df.dtypes)\n",
        "print(pca_df.describe().round(4))\n"
      ]
    },
    {
      "cell_type": "markdown",
      "id": "efa45ff4",
      "metadata": {
        "id": "efa45ff4"
      },
      "source": [
        "## Variance and correlation of PCA scores"
      ]
    },
    {
      "cell_type": "code",
      "execution_count": 23,
      "id": "0e60519a",
      "metadata": {
        "colab": {
          "base_uri": "https://localhost:8080/"
        },
        "id": "0e60519a",
        "outputId": "48f1b63c-d5d7-4774-805d-044e7622a4f1"
      },
      "outputs": [
        {
          "output_type": "stream",
          "name": "stdout",
          "text": [
            "Variance PC1: 1.6156\n",
            "Variance PC2: 0.3444\n",
            "Correlation PC1-PC2: 0.0000\n"
          ]
        }
      ],
      "source": [
        "print(f\"Variance PC1: {np.var(pca_df['PC1'], ddof=0):.4f}\")\n",
        "print(f\"Variance PC2: {np.var(pca_df['PC2'], ddof=0):.4f}\")\n",
        "print(f\"Correlation PC1-PC2: {np.corrcoef(pca_df['PC1'], pca_df['PC2'])[0, 1]:.4f}\")\n"
      ]
    },
    {
      "cell_type": "markdown",
      "id": "97fc34e4",
      "metadata": {
        "id": "97fc34e4"
      },
      "source": [
        "## Scatter plot of PCA scores"
      ]
    },
    {
      "cell_type": "code",
      "execution_count": 24,
      "id": "4ed7e390",
      "metadata": {
        "colab": {
          "base_uri": "https://localhost:8080/",
          "height": 472
        },
        "id": "4ed7e390",
        "outputId": "06d02901-2062-4b18-b9f8-0c504eb44c5c"
      },
      "outputs": [
        {
          "output_type": "display_data",
          "data": {
            "text/plain": [
              "<Figure size 640x480 with 1 Axes>"
            ],
            "image/png": "[encoded data removed]"
          },
          "metadata": {}
        }
      ],
      "source": [
        "plt.scatter(pca_df['PC1'], pca_df['PC2'], color='black')\n",
        "plt.title(\"Scatter Plot of PC1 and PC2 Scores\")\n",
        "plt.xlabel(\"PC1\")\n",
        "plt.ylabel(\"PC2\")\n",
        "plt.grid(True)\n",
        "plt.show()"
      ]
    },
    {
      "cell_type": "markdown",
      "id": "f7f12c55",
      "metadata": {
        "id": "f7f12c55"
      },
      "source": [
        "## Standardize PCA scores and plot"
      ]
    },
    {
      "cell_type": "code",
      "execution_count": 25,
      "id": "7cb89c1b",
      "metadata": {
        "colab": {
          "base_uri": "https://localhost:8080/",
          "height": 472
        },
        "id": "7cb89c1b",
        "outputId": "c65ecf32-7808-4ebe-d638-4e457d3559bc"
      },
      "outputs": [
        {
          "output_type": "display_data",
          "data": {
            "text/plain": [
              "<Figure size 640x480 with 1 Axes>"
            ],
            "image/png": "[encoded data removed]"
          },
          "metadata": {}
        }
      ],
      "source": [
        "z_pca_scores = pd.DataFrame(zscore(pca_scores), columns=[\"z_PC1\", \"z_PC2\"])\n",
        "\n",
        "plt.scatter(z_pca_scores[\"z_PC1\"], z_pca_scores[\"z_PC2\"], color='black')\n",
        "plt.title(\"Scatter Plot of Standardized PC1 and PC2 Scores\")\n",
        "plt.xlabel(\"z_PC1\")\n",
        "plt.ylabel(\"z_PC2\")\n",
        "plt.grid(True)\n",
        "plt.show()"
      ]
    },
    {
      "cell_type": "markdown",
      "id": "39d58ed7",
      "metadata": {
        "id": "39d58ed7"
      },
      "source": [
        "## Correlation between original variables and PCA components"
      ]
    },
    {
      "cell_type": "code",
      "execution_count": 26,
      "id": "4953545f",
      "metadata": {
        "colab": {
          "base_uri": "https://localhost:8080/"
        },
        "id": "4953545f",
        "outputId": "1bee01b9-fc98-45d3-acc9-b36acf8b24ce"
      },
      "outputs": [
        {
          "output_type": "stream",
          "name": "stdout",
          "text": [
            "Cor(data, PC1): [0.90789605 0.90789605]\n",
            "Cor(data, PC2): [-0.41919537  0.41919537]\n"
          ]
        }
      ],
      "source": [
        "print(\"Cor(data, PC1):\", np.corrcoef(data.values.T, pca_df.iloc[:, 0])[0:2, 2])\n",
        "print(\"Cor(data, PC2):\", np.corrcoef(data.values.T, pca_df.iloc[:, 1])[0:2, 2])"
      ]
    },
    {
      "cell_type": "markdown",
      "id": "1ca09d26",
      "metadata": {
        "id": "1ca09d26"
      },
      "source": [
        "## Correlation matrix of PCA scores"
      ]
    },
    {
      "cell_type": "code",
      "execution_count": 27,
      "id": "323482b9",
      "metadata": {
        "colab": {
          "base_uri": "https://localhost:8080/"
        },
        "id": "323482b9",
        "outputId": "99b64955-4812-4d72-8881-64c6515ba3b8"
      },
      "outputs": [
        {
          "output_type": "stream",
          "name": "stdout",
          "text": [
            "Correlation matrix of PCA scores:\n",
            " [[1.00000000e+00 2.38974645e-16]\n",
            " [2.38974645e-16 1.00000000e+00]]\n"
          ]
        }
      ],
      "source": [
        "print(\"Correlation matrix of PCA scores:\\n\", np.corrcoef(pca_df.T))"
      ]
    }
  ],
  "metadata": {
    "colab": {
      "provenance": [],
      "include_colab_link": true
    },
    "language_info": {
      "name": "python"
    },
    "kernelspec": {
      "name": "python3",
      "display_name": "Python 3"
    }
  },
  "nbformat": 4,
  "nbformat_minor": 5
}
