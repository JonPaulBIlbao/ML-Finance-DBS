{
  "cells": [
    {
      "cell_type": "markdown",
      "metadata": {
        "id": "view-in-github",
        "colab_type": "text"
      },
      "source": [
        "<a href=\"https://colab.research.google.com/github/JonPaulBIlbao/ML-Finance-DBS/blob/Machine-Learning-in-Finance-DBS/PCA_Comparison_Manual_vs_Sklearn.ipynb\" target=\"_parent\"><img src=\"https://colab.research.google.com/assets/colab-badge.svg\" alt=\"Open In Colab\"/></a>"
      ]
    },
    {
      "cell_type": "markdown",
      "id": "d9d14c52",
      "metadata": {
        "id": "d9d14c52"
      },
      "source": [
        "# PCA in Python: Manual vs. sklearn.PCA\n",
        "This notebook compares manual PCA via eigen-decomposition with PCA using `sklearn.decomposition.PCA`. All outputs are rounded to 4 decimal places for consistency."
      ]
    },
    {
      "cell_type": "markdown",
      "id": "e440f209",
      "metadata": {
        "id": "e440f209"
      },
      "source": [
        "## Imports and settings"
      ]
    },
    {
      "cell_type": "code",
      "execution_count": 1,
      "id": "d5ca71be",
      "metadata": {
        "id": "d5ca71be"
      },
      "outputs": [],
      "source": [
        "import pandas as pd\n",
        "import numpy as np\n",
        "import matplotlib.pyplot as plt\n",
        "from sklearn.preprocessing import StandardScaler\n",
        "from sklearn.decomposition import PCA\n",
        "from numpy.linalg import eig\n",
        "\n",
        "np.set_printoptions(precision=4, suppress=True)"
      ]
    },
    {
      "cell_type": "markdown",
      "id": "b4b7b208",
      "metadata": {
        "id": "b4b7b208"
      },
      "source": [
        "## Load and inspect data"
      ]
    },
    {
      "cell_type": "code",
      "execution_count": 2,
      "id": "2d8eaa21",
      "metadata": {
        "colab": {
          "base_uri": "https://localhost:8080/"
        },
        "id": "2d8eaa21",
        "outputId": "524034e0-a6ac-4230-ec32-6ecfc1b7b3b1"
      },
      "outputs": [
        {
          "output_type": "stream",
          "name": "stdout",
          "text": [
            "<class 'pandas.core.frame.DataFrame'>\n",
            "RangeIndex: 50 entries, 0 to 49\n",
            "Data columns (total 2 columns):\n",
            " #   Column  Non-Null Count  Dtype  \n",
            "---  ------  --------------  -----  \n",
            " 0   v1      50 non-null     float64\n",
            " 1   v2      50 non-null     float64\n",
            "dtypes: float64(2)\n",
            "memory usage: 932.0 bytes\n",
            "None\n",
            "     v1     v2\n",
            "0  14.2  278.3\n",
            "1  10.8  284.0\n",
            "2   9.5  312.3\n",
            "3   8.8  203.4\n",
            "4  11.5  358.0\n",
            "Missing values:\n",
            " v1    0\n",
            "v2    0\n",
            "dtype: int64\n"
          ]
        }
      ],
      "source": [
        "url = \"https://raw.githubusercontent.com/JonPaulBIlbao/ML-Finance-DBS/Machine-Learning-in-Finance-DBS/pca_efa/PCA_2_var.csv\"\n",
        "data = pd.read_csv(url, sep=';', decimal=',')[['v1', 'v2']]\n",
        "print(data.info())\n",
        "print(data.head())\n",
        "print(\"Missing values:\\n\", data.isnull().sum())"
      ]
    },
    {
      "cell_type": "markdown",
      "id": "5afc849e",
      "metadata": {
        "id": "5afc849e"
      },
      "source": [
        "## Standardize data manually"
      ]
    },
    {
      "cell_type": "code",
      "execution_count": 3,
      "id": "5fbd19df",
      "metadata": {
        "colab": {
          "base_uri": "https://localhost:8080/"
        },
        "id": "5fbd19df",
        "outputId": "4516f4b8-bc7e-4bdc-ef77-8dfb879cec60"
      },
      "outputs": [
        {
          "output_type": "stream",
          "name": "stdout",
          "text": [
            "First 5 rows of standardized data:\n",
            "        v1      v2\n",
            "0  1.7472  0.6683\n",
            "1  0.8679  0.7252\n",
            "2  0.5317  1.0075\n",
            "3  0.3507 -0.0788\n",
            "4  1.0489  1.4633\n",
            "Variance check (manual, ddof=1):\n",
            " v1    1.0\n",
            "v2    1.0\n",
            "dtype: float64\n"
          ]
        }
      ],
      "source": [
        "z_manual = (data - data.mean()) / data.std(ddof=1)\n",
        "print(\"First 5 rows of standardized data:\\n\", z_manual.round(4).head())\n",
        "print(\"Variance check (manual, ddof=1):\\n\", z_manual.var(ddof=1).round(4))"
      ]
    },
    {
      "cell_type": "markdown",
      "id": "a707446e",
      "metadata": {
        "id": "a707446e"
      },
      "source": [
        "## Manual PCA via eigen-decomposition"
      ]
    },
    {
      "cell_type": "code",
      "execution_count": 4,
      "id": "82267028",
      "metadata": {
        "colab": {
          "base_uri": "https://localhost:8080/"
        },
        "id": "82267028",
        "outputId": "ab2952b0-524f-4b92-b04e-0c5c0518bb9d"
      },
      "outputs": [
        {
          "output_type": "stream",
          "name": "stdout",
          "text": [
            "Eigenvalues (manual): [1.6486 0.3514]\n",
            "PCA scores (manual) summary:\n",
            "            PC1      PC2\n",
            "count  50.0000  50.0000\n",
            "mean   -0.0000  -0.0000\n",
            "std     1.2840   0.5928\n",
            "min    -2.3781  -1.4103\n",
            "25%    -1.0433  -0.3756\n",
            "50%    -0.1414   0.0023\n",
            "75%     1.0949   0.3198\n",
            "max     2.7474   1.1733\n"
          ]
        }
      ],
      "source": [
        "R = np.corrcoef(z_manual.T)\n",
        "eigenvalues, eigenvectors = eig(R)\n",
        "Lambda = np.diag(eigenvalues)\n",
        "\n",
        "pca_scores_manual = np.asarray(z_manual @ eigenvectors)\n",
        "pca_df_manual = pd.DataFrame(pca_scores_manual, columns=['PC1', 'PC2'])\n",
        "\n",
        "print(\"Eigenvalues (manual):\", np.round(eigenvalues, 4))\n",
        "print(\"PCA scores (manual) summary:\\n\", pca_df_manual.describe().round(4))"
      ]
    },
    {
      "cell_type": "markdown",
      "id": "d994b69f",
      "metadata": {
        "id": "d994b69f"
      },
      "source": [
        "## Variance and correlation of manual PCA scores"
      ]
    },
    {
      "cell_type": "code",
      "execution_count": 5,
      "id": "ab6598fb",
      "metadata": {
        "colab": {
          "base_uri": "https://localhost:8080/"
        },
        "id": "ab6598fb",
        "outputId": "1bfcb36e-eb43-433f-ed10-72b9a96f6237"
      },
      "outputs": [
        {
          "output_type": "stream",
          "name": "stdout",
          "text": [
            "Variance PC1 (manual): 1.6156\n",
            "Variance PC2 (manual): 0.3444\n",
            "Correlation PC1-PC2 (manual): 0.0000\n"
          ]
        }
      ],
      "source": [
        "var_pc1 = np.var(pca_df_manual['PC1'], ddof=0)\n",
        "var_pc2 = np.var(pca_df_manual['PC2'], ddof=0)\n",
        "corr_pc1_pc2 = np.corrcoef(pca_df_manual['PC1'], pca_df_manual['PC2'])[0, 1]\n",
        "\n",
        "print(f\"Variance PC1 (manual): {var_pc1:.4f}\")\n",
        "print(f\"Variance PC2 (manual): {var_pc2:.4f}\")\n",
        "print(f\"Correlation PC1-PC2 (manual): {corr_pc1_pc2:.4f}\")"
      ]
    },
    {
      "cell_type": "markdown",
      "id": "11f58cb1",
      "metadata": {
        "id": "11f58cb1"
      },
      "source": [
        "## PCA using sklearn"
      ]
    },
    {
      "cell_type": "code",
      "execution_count": 6,
      "id": "99b06d5d",
      "metadata": {
        "colab": {
          "base_uri": "https://localhost:8080/"
        },
        "id": "99b06d5d",
        "outputId": "44183558-55b6-4d35-f947-33f5825e49df"
      },
      "outputs": [
        {
          "output_type": "stream",
          "name": "stdout",
          "text": [
            "Explained variance (sklearn): [1.6822 0.3586]\n",
            "Explained variance ratio (sklearn): [0.8243 0.1757]\n",
            "PCA scores (sklearn) summary:\n",
            "            PC1      PC2\n",
            "count  50.0000  50.0000\n",
            "mean   -0.0000  -0.0000\n",
            "std     1.2970   0.5989\n",
            "min    -2.4022  -1.4246\n",
            "25%    -1.0539  -0.3795\n",
            "50%    -0.1429   0.0023\n",
            "75%     1.1060   0.3230\n",
            "max     2.7753   1.1852\n"
          ]
        }
      ],
      "source": [
        "scaler = StandardScaler()\n",
        "scaled_data = scaler.fit_transform(data)\n",
        "\n",
        "pca_model = PCA(n_components=2)\n",
        "pca_scores_sklearn = pca_model.fit_transform(scaled_data)\n",
        "pca_df_sklearn = pd.DataFrame(pca_scores_sklearn, columns=['PC1', 'PC2'])\n",
        "\n",
        "print(\"Explained variance (sklearn):\", np.round(pca_model.explained_variance_, 4))\n",
        "print(\"Explained variance ratio (sklearn):\", np.round(pca_model.explained_variance_ratio_, 4))\n",
        "print(\"PCA scores (sklearn) summary:\\n\", pca_df_sklearn.describe().round(4))"
      ]
    },
    {
      "cell_type": "markdown",
      "id": "5b615a87",
      "metadata": {
        "id": "5b615a87"
      },
      "source": [
        "## Compare scatter plots"
      ]
    },
    {
      "cell_type": "code",
      "execution_count": 7,
      "id": "6fb1a1f2",
      "metadata": {
        "colab": {
          "base_uri": "https://localhost:8080/",
          "height": 507
        },
        "id": "6fb1a1f2",
        "outputId": "902700d1-5c23-471a-84d1-cfd6ae921530"
      },
      "outputs": [
        {
          "output_type": "display_data",
          "data": {
            "text/plain": [
              "<Figure size 1200x500 with 2 Axes>"
            ],
            "image/png": "[encoded data removed]"
          },
          "metadata": {}
        }
      ],
      "source": [
        "fig, axs = plt.subplots(1, 2, figsize=(12, 5))\n",
        "\n",
        "axs[0].scatter(pca_df_manual['PC1'], pca_df_manual['PC2'], color='black')\n",
        "axs[0].set_title(\"Manual PCA\")\n",
        "axs[0].set_xlabel(\"PC1\")\n",
        "axs[0].set_ylabel(\"PC2\")\n",
        "axs[0].grid(True)\n",
        "\n",
        "axs[1].scatter(pca_df_sklearn['PC1'], pca_df_sklearn['PC2'], color='blue')\n",
        "axs[1].set_title(\"sklearn PCA\")\n",
        "axs[1].set_xlabel(\"PC1\")\n",
        "axs[1].set_ylabel(\"PC2\")\n",
        "axs[1].grid(True)\n",
        "\n",
        "plt.tight_layout()\n",
        "plt.show()"
      ]
    }
  ],
  "metadata": {
    "colab": {
      "provenance": [],
      "include_colab_link": true
    },
    "language_info": {
      "name": "python"
    },
    "kernelspec": {
      "name": "python3",
      "display_name": "Python 3"
    }
  },
  "nbformat": 4,
  "nbformat_minor": 5
}
