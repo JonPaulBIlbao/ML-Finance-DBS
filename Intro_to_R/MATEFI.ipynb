{
  "nbformat": 4,
  "nbformat_minor": 0,
  "metadata": {
    "colab": {
      "provenance": [],
      "include_colab_link": true
    },
    "kernelspec": {
      "name": "ir",
      "display_name": "R"
    },
    "language_info": {
      "name": "R"
    }
  },
  "cells": [
    {
      "cell_type": "markdown",
      "metadata": {
        "id": "view-in-github",
        "colab_type": "text"
      },
      "source": [
        "<a href=\"https://colab.research.google.com/github/JonPaulBIlbao/ML-Finance-DBS/blob/Learning-R/MATEFI.ipynb\" target=\"_parent\"><img src=\"https://colab.research.google.com/assets/colab-badge.svg\" alt=\"Open In Colab\"/></a>"
      ]
    },
    {
      "cell_type": "markdown",
      "source": [
        "# **FINANCE MATHS WITH R**"
      ],
      "metadata": {
        "id": "ioF7ihYUU2nq"
      }
    },
    {
      "cell_type": "markdown",
      "source": [
        "1. Install necessary packages for financial calculations\n",
        "and time series analysis."
      ],
      "metadata": {
        "id": "DRmpINYUTdZK"
      }
    },
    {
      "cell_type": "code",
      "source": [
        "install.packages(\"FinancialMath\")\n",
        "install.packages(\"timeSeries\")"
      ],
      "metadata": {
        "id": "G4Oqvu1CTn9e",
        "colab": {
          "base_uri": "https://localhost:8080/"
        },
        "outputId": "7d179f79-c409-48ea-d466-fad0bb2379f0"
      },
      "execution_count": null,
      "outputs": [
        {
          "output_type": "stream",
          "name": "stderr",
          "text": [
            "Installing package into ‘/usr/local/lib/R/site-library’\n",
            "(as ‘lib’ is unspecified)\n",
            "\n",
            "Installing package into ‘/usr/local/lib/R/site-library’\n",
            "(as ‘lib’ is unspecified)\n",
            "\n",
            "also installing the dependency ‘timeDate’\n",
            "\n",
            "\n"
          ]
        }
      ]
    },
    {
      "cell_type": "markdown",
      "source": [
        "2. Load *FinancialMath* and *timeSeries* packages. This provides functions for\n",
        "amortization, annuities, and net present value (NPV)"
      ],
      "metadata": {
        "id": "0icCcGErT0zO"
      }
    },
    {
      "cell_type": "code",
      "source": [
        "library(FinancialMath)\n",
        "library(timeSeries)"
      ],
      "metadata": {
        "collapsed": true,
        "id": "U0qi4gG5T55f",
        "colab": {
          "base_uri": "https://localhost:8080/"
        },
        "outputId": "481c5c01-d169-431a-b27d-abfa237f2303"
      },
      "execution_count": null,
      "outputs": [
        {
          "output_type": "stream",
          "name": "stderr",
          "text": [
            "Loading required package: timeDate\n",
            "\n",
            "\n",
            "Attaching package: ‘timeSeries’\n",
            "\n",
            "\n",
            "The following objects are masked from ‘package:graphics’:\n",
            "\n",
            "    lines, points\n",
            "\n",
            "\n"
          ]
        }
      ]
    },
    {
      "cell_type": "markdown",
      "source": [
        "**Example 1**: Calculate the remaining term of a loan\n",
        "amort.period calculates the remaining loan term\n",
        "given the loan amount (Loan), interest rate (i),\n",
        "and the time period (t).\n",
        "Loan = 100 currency units, 5-year term (n = 5),\n",
        "annual interest rate = 1% (i = 0.01), at t = 3 years."
      ],
      "metadata": {
        "id": "2NX4RKmYUCdX"
      }
    },
    {
      "cell_type": "code",
      "source": [
        "amort.period(Loan=100, n=5, i=.01, t=3)"
      ],
      "metadata": {
        "id": "wWD4BbbTULpJ",
        "colab": {
          "base_uri": "https://localhost:8080/",
          "height": 318
        },
        "outputId": "c12f04d3-3539-4f52-d6b7-5f7ce923cfe4"
      },
      "execution_count": null,
      "outputs": [
        {
          "output_type": "display_data",
          "data": {
            "text/html": [
              "<table class=\"dataframe\">\n",
              "<caption>A matrix: 8 × 1 of type dbl</caption>\n",
              "<thead>\n",
              "\t<tr><th></th><th scope=col>Amortization</th></tr>\n",
              "</thead>\n",
              "<tbody>\n",
              "\t<tr><th scope=row>Loan</th><td>100.00000</td></tr>\n",
              "\t<tr><th scope=row>PMT</th><td> 20.60398</td></tr>\n",
              "\t<tr><th scope=row>Eff Rate</th><td>  0.01000</td></tr>\n",
              "\t<tr><th scope=row>Years</th><td>  5.00000</td></tr>\n",
              "\t<tr><th scope=row>At Time 3:</th><td>  3.00000</td></tr>\n",
              "\t<tr><th scope=row>Int Paid</th><td>  0.60596</td></tr>\n",
              "\t<tr><th scope=row>Princ Paid</th><td> 19.99802</td></tr>\n",
              "\t<tr><th scope=row>Balance</th><td> 40.59798</td></tr>\n",
              "</tbody>\n",
              "</table>\n"
            ],
            "text/markdown": "\nA matrix: 8 × 1 of type dbl\n\n| <!--/--> | Amortization |\n|---|---|\n| Loan | 100.00000 |\n| PMT |  20.60398 |\n| Eff Rate |   0.01000 |\n| Years |   5.00000 |\n| At Time 3: |   3.00000 |\n| Int Paid |   0.60596 |\n| Princ Paid |  19.99802 |\n| Balance |  40.59798 |\n\n",
            "text/latex": "A matrix: 8 × 1 of type dbl\n\\begin{tabular}{r|l}\n  & Amortization\\\\\n\\hline\n\tLoan & 100.00000\\\\\n\tPMT &  20.60398\\\\\n\tEff Rate &   0.01000\\\\\n\tYears &   5.00000\\\\\n\tAt Time 3: &   3.00000\\\\\n\tInt Paid &   0.60596\\\\\n\tPrinc Paid &  19.99802\\\\\n\tBalance &  40.59798\\\\\n\\end{tabular}\n",
            "text/plain": [
              "           Amortization\n",
              "Loan       100.00000   \n",
              "PMT         20.60398   \n",
              "Eff Rate     0.01000   \n",
              "Years        5.00000   \n",
              "At Time 3:   3.00000   \n",
              "Int Paid     0.60596   \n",
              "Princ Paid  19.99802   \n",
              "Balance     40.59798   "
            ]
          },
          "metadata": {}
        }
      ]
    },
    {
      "cell_type": "markdown",
      "source": [
        "**Example 2**: Create an amortization schedule for a\n",
        "amort.table generates a full amortization table.\n",
        "Here, we solve for the loan amount (Loan = NA)\n",
        "given the payment (pmt = 102.77), term (n = 10),\n",
        "and semi-annual interest rate (i = 0.005).\n",
        "The function will plot the amortization schedule."
      ],
      "metadata": {
        "id": "ca9KfqdxUd5v"
      }
    },
    {
      "cell_type": "code",
      "source": [
        "amort.table(Loan=NA, pmt=102.77, n=10, i=.005, plot=TRUE)"
      ],
      "metadata": {
        "id": "qSb_ztwwUgnH",
        "colab": {
          "base_uri": "https://localhost:8080/",
          "height": 1000
        },
        "outputId": "29be4239-a0b0-418f-d943-6d0bfe898a3c"
      },
      "execution_count": null,
      "outputs": [
        {
          "output_type": "display_data",
          "data": {
            "text/html": [
              "<dl>\n",
              "\t<dt>$Schedule</dt>\n",
              "\t\t<dd><table class=\"dataframe\">\n",
              "<caption>A matrix: 10 × 4 of type dbl</caption>\n",
              "<thead>\n",
              "\t<tr><th></th><th scope=col>Payment</th><th scope=col>Interest Paid</th><th scope=col>Principal Paid</th><th scope=col>Balance</th></tr>\n",
              "</thead>\n",
              "<tbody>\n",
              "\t<tr><th scope=row>1</th><td>102.77</td><td>5.00</td><td> 97.77</td><td>902.22</td></tr>\n",
              "\t<tr><th scope=row>2</th><td>102.77</td><td>4.51</td><td> 98.26</td><td>803.97</td></tr>\n",
              "\t<tr><th scope=row>3</th><td>102.77</td><td>4.02</td><td> 98.75</td><td>705.22</td></tr>\n",
              "\t<tr><th scope=row>4</th><td>102.77</td><td>3.53</td><td> 99.24</td><td>605.97</td></tr>\n",
              "\t<tr><th scope=row>5</th><td>102.77</td><td>3.03</td><td> 99.74</td><td>506.23</td></tr>\n",
              "\t<tr><th scope=row>6</th><td>102.77</td><td>2.53</td><td>100.24</td><td>405.99</td></tr>\n",
              "\t<tr><th scope=row>7</th><td>102.77</td><td>2.03</td><td>100.74</td><td>305.25</td></tr>\n",
              "\t<tr><th scope=row>8</th><td>102.77</td><td>1.53</td><td>101.24</td><td>204.01</td></tr>\n",
              "\t<tr><th scope=row>9</th><td>102.77</td><td>1.02</td><td>101.75</td><td>102.26</td></tr>\n",
              "\t<tr><th scope=row>10</th><td>102.77</td><td>0.51</td><td>102.26</td><td>  0.00</td></tr>\n",
              "</tbody>\n",
              "</table>\n",
              "</dd>\n",
              "\t<dt>$Other</dt>\n",
              "\t\t<dd><table class=\"dataframe\">\n",
              "<caption>A matrix: 4 × 1 of type dbl</caption>\n",
              "<thead>\n",
              "\t<tr><th></th><th scope=col>Details</th></tr>\n",
              "</thead>\n",
              "<tbody>\n",
              "\t<tr><th scope=row>Loan</th><td> 999.9944</td></tr>\n",
              "\t<tr><th scope=row>Total Paid</th><td>1027.7000</td></tr>\n",
              "\t<tr><th scope=row>Total Interest</th><td>  27.7100</td></tr>\n",
              "\t<tr><th scope=row>Eff Rate</th><td>   0.0050</td></tr>\n",
              "</tbody>\n",
              "</table>\n",
              "</dd>\n",
              "</dl>\n"
            ],
            "text/markdown": "$Schedule\n:   \nA matrix: 10 × 4 of type dbl\n\n| <!--/--> | Payment | Interest Paid | Principal Paid | Balance |\n|---|---|---|---|---|\n| 1 | 102.77 | 5.00 |  97.77 | 902.22 |\n| 2 | 102.77 | 4.51 |  98.26 | 803.97 |\n| 3 | 102.77 | 4.02 |  98.75 | 705.22 |\n| 4 | 102.77 | 3.53 |  99.24 | 605.97 |\n| 5 | 102.77 | 3.03 |  99.74 | 506.23 |\n| 6 | 102.77 | 2.53 | 100.24 | 405.99 |\n| 7 | 102.77 | 2.03 | 100.74 | 305.25 |\n| 8 | 102.77 | 1.53 | 101.24 | 204.01 |\n| 9 | 102.77 | 1.02 | 101.75 | 102.26 |\n| 10 | 102.77 | 0.51 | 102.26 |   0.00 |\n\n\n$Other\n:   \nA matrix: 4 × 1 of type dbl\n\n| <!--/--> | Details |\n|---|---|\n| Loan |  999.9944 |\n| Total Paid | 1027.7000 |\n| Total Interest |   27.7100 |\n| Eff Rate |    0.0050 |\n\n\n\n\n",
            "text/latex": "\\begin{description}\n\\item[\\$Schedule] A matrix: 10 × 4 of type dbl\n\\begin{tabular}{r|llll}\n  & Payment & Interest Paid & Principal Paid & Balance\\\\\n\\hline\n\t1 & 102.77 & 5.00 &  97.77 & 902.22\\\\\n\t2 & 102.77 & 4.51 &  98.26 & 803.97\\\\\n\t3 & 102.77 & 4.02 &  98.75 & 705.22\\\\\n\t4 & 102.77 & 3.53 &  99.24 & 605.97\\\\\n\t5 & 102.77 & 3.03 &  99.74 & 506.23\\\\\n\t6 & 102.77 & 2.53 & 100.24 & 405.99\\\\\n\t7 & 102.77 & 2.03 & 100.74 & 305.25\\\\\n\t8 & 102.77 & 1.53 & 101.24 & 204.01\\\\\n\t9 & 102.77 & 1.02 & 101.75 & 102.26\\\\\n\t10 & 102.77 & 0.51 & 102.26 &   0.00\\\\\n\\end{tabular}\n\n\\item[\\$Other] A matrix: 4 × 1 of type dbl\n\\begin{tabular}{r|l}\n  & Details\\\\\n\\hline\n\tLoan &  999.9944\\\\\n\tTotal Paid & 1027.7000\\\\\n\tTotal Interest &   27.7100\\\\\n\tEff Rate &    0.0050\\\\\n\\end{tabular}\n\n\\end{description}\n",
            "text/plain": [
              "$Schedule\n",
              "   Payment Interest Paid Principal Paid Balance\n",
              "1   102.77          5.00          97.77  902.22\n",
              "2   102.77          4.51          98.26  803.97\n",
              "3   102.77          4.02          98.75  705.22\n",
              "4   102.77          3.53          99.24  605.97\n",
              "5   102.77          3.03          99.74  506.23\n",
              "6   102.77          2.53         100.24  405.99\n",
              "7   102.77          2.03         100.74  305.25\n",
              "8   102.77          1.53         101.24  204.01\n",
              "9   102.77          1.02         101.75  102.26\n",
              "10  102.77          0.51         102.26    0.00\n",
              "\n",
              "$Other\n",
              "                 Details\n",
              "Loan            999.9944\n",
              "Total Paid     1027.7000\n",
              "Total Interest   27.7100\n",
              "Eff Rate          0.0050\n"
            ]
          },
          "metadata": {}
        },
        {
          "output_type": "display_data",
          "data": {
            "text/plain": [
              "Plot with title “Percentage of Payment\n",
              "Toward Interest”"
            ],
            "image/png": "[encoded data removed]"
          },
          "metadata": {
            "image/png": {
              "width": 420,
              "height": 420
            }
          }
        }
      ]
    },
    {
      "cell_type": "markdown",
      "source": [
        "**Example 3**: Calculate the number of payment periods\n",
        "This calculates the periods (n) needed to fully amortize\n",
        "a loan of 100 units (Loan = 100) with payments (pmt = 24),\n",
        "an annual interest rate (i = 0.01), with yearly compounding (ic = 1), after 3 years (t = 3)."
      ],
      "metadata": {
        "id": "3hfww3Q5Uq6y"
      }
    },
    {
      "cell_type": "code",
      "source": [
        "amort.period(Loan=100, pmt=24, ic=1, i=.01, t=3)"
      ],
      "metadata": {
        "id": "LuAA4p-wUqHp",
        "colab": {
          "base_uri": "https://localhost:8080/",
          "height": 318
        },
        "outputId": "6005637e-a472-4759-dc7a-1731187cda03"
      },
      "execution_count": null,
      "outputs": [
        {
          "output_type": "display_data",
          "data": {
            "text/html": [
              "<table class=\"dataframe\">\n",
              "<caption>A matrix: 8 × 1 of type dbl</caption>\n",
              "<thead>\n",
              "\t<tr><th></th><th scope=col>Amortization</th></tr>\n",
              "</thead>\n",
              "<tbody>\n",
              "\t<tr><th scope=row>Loan</th><td>100.000000</td></tr>\n",
              "\t<tr><th scope=row>PMT</th><td> 24.000000</td></tr>\n",
              "\t<tr><th scope=row>Eff Rate</th><td>  0.010000</td></tr>\n",
              "\t<tr><th scope=row>Years</th><td>  4.277206</td></tr>\n",
              "\t<tr><th scope=row>At Time 3:</th><td>  3.000000</td></tr>\n",
              "\t<tr><th scope=row>Int Paid</th><td>  0.537700</td></tr>\n",
              "\t<tr><th scope=row>Princ Paid</th><td> 23.462300</td></tr>\n",
              "\t<tr><th scope=row>Balance</th><td> 30.307700</td></tr>\n",
              "</tbody>\n",
              "</table>\n"
            ],
            "text/markdown": "\nA matrix: 8 × 1 of type dbl\n\n| <!--/--> | Amortization |\n|---|---|\n| Loan | 100.000000 |\n| PMT |  24.000000 |\n| Eff Rate |   0.010000 |\n| Years |   4.277206 |\n| At Time 3: |   3.000000 |\n| Int Paid |   0.537700 |\n| Princ Paid |  23.462300 |\n| Balance |  30.307700 |\n\n",
            "text/latex": "A matrix: 8 × 1 of type dbl\n\\begin{tabular}{r|l}\n  & Amortization\\\\\n\\hline\n\tLoan & 100.000000\\\\\n\tPMT &  24.000000\\\\\n\tEff Rate &   0.010000\\\\\n\tYears &   4.277206\\\\\n\tAt Time 3: &   3.000000\\\\\n\tInt Paid &   0.537700\\\\\n\tPrinc Paid &  23.462300\\\\\n\tBalance &  30.307700\\\\\n\\end{tabular}\n",
            "text/plain": [
              "           Amortization\n",
              "Loan       100.000000  \n",
              "PMT         24.000000  \n",
              "Eff Rate     0.010000  \n",
              "Years        4.277206  \n",
              "At Time 3:   3.000000  \n",
              "Int Paid     0.537700  \n",
              "Princ Paid  23.462300  \n",
              "Balance     30.307700  "
            ]
          },
          "metadata": {}
        }
      ]
    },
    {
      "cell_type": "markdown",
      "source": [
        "**Example 4:** Arithmetic progression annuity calculation\n",
        "annuity.arith calculates values for an arithmetic annuity.\n",
        "Here, p = 100 is the first payment, q = 4 is the increment,\n",
        "n = 20 is the number of periods, and i = 0.03 is the interest\n",
        "rate, with yearly compounding (ic = 1). pf = 2 means\n",
        "semi-annual payments, and imm = TRUE means it's an immediate annuity."
      ],
      "metadata": {
        "id": "cGEQy8MSVHSB"
      }
    },
    {
      "cell_type": "code",
      "source": [
        "annuity.arith(pv=NA, fv=NA, n=20, p=100, q=4, i=.03, ic=1, pf=2, imm=TRUE)"
      ],
      "metadata": {
        "id": "Oka3NUAiVL1x"
      },
      "execution_count": null,
      "outputs": []
    },
    {
      "cell_type": "markdown",
      "source": [
        "**Example 5:** Net Present Value (NPV) with multiple cash flows\n",
        "NPV calculates the net present value of cash flows.\n",
        "cf0 = 100 (initial investment), cf = c(50, 60, 10, 20) are\n",
        "the inflows at times = c(1, 5, 9, 9), and discount rate = 4.5%."
      ],
      "metadata": {
        "id": "AgnEF2TvVSj3"
      }
    },
    {
      "cell_type": "code",
      "source": [
        "NPV(cf0=100, cf=c(50,60,10,20), times=c(1,5,9,9), i=.045)"
      ],
      "metadata": {
        "id": "d7zxfBlEVRux"
      },
      "execution_count": null,
      "outputs": []
    },
    {
      "cell_type": "markdown",
      "source": [
        "\n",
        "**Example 6:** NPV for a single future cash\n",
        "NPV for a single future cash flow.\n",
        "cf0 = 100 (initial investment), cf = 50\n",
        "with a discount rate of 5% (i = 0.05)."
      ],
      "metadata": {
        "id": "2Jh_8xBeVbqp"
      }
    },
    {
      "cell_type": "code",
      "source": [
        "NPV(cf0=43+0.191879926573797, cf=50, times=3, i=.05)"
      ],
      "metadata": {
        "id": "phDFfmATVbGp",
        "colab": {
          "base_uri": "https://localhost:8080/",
          "height": 34
        },
        "outputId": "5e774ad3-9237-475e-d115-abf6fd244dcb"
      },
      "execution_count": null,
      "outputs": [
        {
          "output_type": "display_data",
          "data": {
            "text/html": [
              "0"
            ],
            "text/markdown": "0",
            "text/latex": "0",
            "text/plain": [
              "[1] 0"
            ]
          },
          "metadata": {}
        }
      ]
    },
    {
      "cell_type": "markdown",
      "source": [
        "**Example 7:** Detailed amortization schedule for a large loan\n",
        "Creates an amortization table for a loan of 10,000,000 units,\n",
        "with 240 monthly payments (n = 240) at a monthly interest\n",
        "rate of 1% (i = 0.12/12), yearly compounding (ic = 1),\n",
        "and monthly payments (pf = 1). No plot generated (plot=FALSE). Print the resulting table."
      ],
      "metadata": {
        "id": "nFc-bQvcVlwY"
      }
    },
    {
      "cell_type": "code",
      "source": [
        "tab1 <- amort.table(Loan=10000000, n=240, pmt=NA, i=0.12/12, ic=1, pf=1, plot=FALSE)\n",
        "print(tab1)"
      ],
      "metadata": {
        "id": "E4uDM_8lWaeY",
        "colab": {
          "base_uri": "https://localhost:8080/"
        },
        "outputId": "fd03f798-a06c-4716-f2e6-c31947bb1d54"
      },
      "execution_count": null,
      "outputs": [
        {
          "output_type": "stream",
          "name": "stdout",
          "text": [
            "$Schedule\n",
            "     Payment Interest Paid Principal Paid   Balance\n",
            "1   110108.6     100000.00       10108.61 9989891.4\n",
            "2   110108.6      99898.91       10209.70 9979681.7\n",
            "3   110108.6      99796.82       10311.80 9969369.9\n",
            "4   110108.6      99693.70       10414.91 9958955.0\n",
            "5   110108.6      99589.55       10519.06 9948435.9\n",
            "6   110108.6      99484.36       10624.25 9937811.7\n",
            "7   110108.6      99378.12       10730.50 9927081.2\n",
            "8   110108.6      99270.81       10837.80 9916243.4\n",
            "9   110108.6      99162.43       10946.18 9905297.2\n",
            "10  110108.6      99052.97       11055.64 9894241.5\n",
            "11  110108.6      98942.42       11166.20 9883075.3\n",
            "12  110108.6      98830.75       11277.86 9871797.5\n",
            "13  110108.6      98717.97       11390.64 9860406.8\n",
            "14  110108.6      98604.07       11504.54 9848902.3\n",
            "15  110108.6      98489.02       11619.59 9837282.7\n",
            "16  110108.6      98372.83       11735.79 9825546.9\n",
            "17  110108.6      98255.47       11853.14 9813693.8\n",
            "18  110108.6      98136.94       11971.68 9801722.1\n",
            "19  110108.6      98017.22       12091.39 9789630.7\n",
            "20  110108.6      97896.31       12212.31 9777418.4\n",
            "21  110108.6      97774.18       12334.43 9765084.0\n",
            "22  110108.6      97650.84       12457.77 9752626.2\n",
            "23  110108.6      97526.26       12582.35 9740043.8\n",
            "24  110108.6      97400.44       12708.17 9727335.7\n",
            "25  110108.6      97273.36       12835.26 9714500.4\n",
            "26  110108.6      97145.00       12963.61 9701536.8\n",
            "27  110108.6      97015.37       13093.25 9688443.6\n",
            "28  110108.6      96884.44       13224.18 9675219.4\n",
            "29  110108.6      96752.19       13356.42 9661863.0\n",
            "30  110108.6      96618.63       13489.98 9648373.0\n",
            "31  110108.6      96483.73       13624.88 9634748.1\n",
            "32  110108.6      96347.48       13761.13 9620987.0\n",
            "33  110108.6      96209.87       13898.74 9607088.2\n",
            "34  110108.6      96070.88       14037.73 9593050.5\n",
            "35  110108.6      95930.50       14178.11 9578872.4\n",
            "36  110108.6      95788.72       14319.89 9564552.5\n",
            "37  110108.6      95645.52       14463.09 9550089.4\n",
            "38  110108.6      95500.89       14607.72 9535481.7\n",
            "39  110108.6      95354.82       14753.80 9520727.9\n",
            "40  110108.6      95207.28       14901.33 9505826.6\n",
            "41  110108.6      95058.27       15050.35 9490776.2\n",
            "42  110108.6      94907.76       15200.85 9475575.3\n",
            "43  110108.6      94755.75       15352.86 9460222.5\n",
            "44  110108.6      94602.22       15506.39 9444716.1\n",
            "45  110108.6      94447.16       15661.45 9429054.7\n",
            "46  110108.6      94290.55       15818.07 9413236.6\n",
            "47  110108.6      94132.37       15976.25 9397260.3\n",
            "48  110108.6      93972.60       16136.01 9381124.3\n",
            "49  110108.6      93811.24       16297.37 9364827.0\n",
            "50  110108.6      93648.27       16460.34 9348366.6\n",
            "51  110108.6      93483.67       16624.95 9331741.7\n",
            "52  110108.6      93317.42       16791.20 9314950.5\n",
            "53  110108.6      93149.50       16959.11 9297991.4\n",
            "54  110108.6      92979.91       17128.70 9280862.7\n",
            "55  110108.6      92808.63       17299.99 9263562.7\n",
            "56  110108.6      92635.63       17472.99 9246089.7\n",
            "57  110108.6      92460.90       17647.72 9228442.0\n",
            "58  110108.6      92284.42       17824.19 9210617.8\n",
            "59  110108.6      92106.18       18002.44 9192615.3\n",
            "60  110108.6      91926.15       18182.46 9174432.9\n",
            "61  110108.6      91744.33       18364.28 9156068.6\n",
            "62  110108.6      91560.69       18547.93 9137520.7\n",
            "63  110108.6      91375.21       18733.41 9118787.3\n",
            "64  110108.6      91187.87       18920.74 9099866.5\n",
            "65  110108.6      90998.67       19109.95 9080756.6\n",
            "66  110108.6      90807.57       19301.05 9061455.5\n",
            "67  110108.6      90614.56       19494.06 9041961.5\n",
            "68  110108.6      90419.61       19689.00 9022272.5\n",
            "69  110108.6      90222.72       19885.89 9002386.6\n",
            "70  110108.6      90023.87       20084.75 8982301.8\n",
            "71  110108.6      89823.02       20285.59 8962016.2\n",
            "72  110108.6      89620.16       20488.45 8941527.8\n",
            "73  110108.6      89415.28       20693.34 8920834.5\n",
            "74  110108.6      89208.34       20900.27 8899934.2\n",
            "75  110108.6      88999.34       21109.27 8878824.9\n",
            "76  110108.6      88788.25       21320.36 8857504.6\n",
            "77  110108.6      88575.05       21533.57 8835971.0\n",
            "78  110108.6      88359.71       21748.90 8814222.1\n",
            "79  110108.6      88142.22       21966.39 8792255.7\n",
            "80  110108.6      87922.56       22186.06 8770069.6\n",
            "81  110108.6      87700.70       22407.92 8747661.7\n",
            "82  110108.6      87476.62       22632.00 8725029.7\n",
            "83  110108.6      87250.30       22858.32 8702171.4\n",
            "84  110108.6      87021.71       23086.90 8679084.5\n",
            "85  110108.6      86790.85       23317.77 8655766.7\n",
            "86  110108.6      86557.67       23550.95 8632215.8\n",
            "87  110108.6      86322.16       23786.46 8608429.3\n",
            "88  110108.6      86084.29       24024.32 8584405.0\n",
            "89  110108.6      85844.05       24264.56 8560140.4\n",
            "90  110108.6      85601.40       24507.21 8535633.2\n",
            "91  110108.6      85356.33       24752.28 8510881.0\n",
            "92  110108.6      85108.81       24999.80 8485881.2\n",
            "93  110108.6      84858.81       25249.80 8460631.3\n",
            "94  110108.6      84606.31       25502.30 8435129.1\n",
            "95  110108.6      84351.29       25757.32 8409371.7\n",
            "96  110108.6      84093.72       26014.90 8383356.8\n",
            "97  110108.6      83833.57       26275.05 8357081.8\n",
            "98  110108.6      83570.82       26537.80 8330544.0\n",
            "99  110108.6      83305.44       26803.17 8303740.8\n",
            "100 110108.6      83037.41       27071.21 8276669.6\n",
            "101 110108.6      82766.70       27341.92 8249327.7\n",
            "102 110108.6      82493.28       27615.34 8221712.4\n",
            "103 110108.6      82217.12       27891.49 8193820.9\n",
            "104 110108.6      81938.21       28170.40 8165650.5\n",
            "105 110108.6      81656.50       28452.11 8137198.4\n",
            "106 110108.6      81371.98       28736.63 8108461.7\n",
            "107 110108.6      81084.62       29024.00 8079437.7\n",
            "108 110108.6      80794.38       29314.24 8050123.5\n",
            "109 110108.6      80501.23       29607.38 8020516.1\n",
            "110 110108.6      80205.16       29903.45 7990612.7\n",
            "111 110108.6      79906.13       30202.49 7960410.2\n",
            "112 110108.6      79604.10       30504.51 7929905.7\n",
            "113 110108.6      79299.06       30809.56 7899096.1\n",
            "114 110108.6      78990.96       31117.65 7867978.5\n",
            "115 110108.6      78679.78       31428.83 7836549.6\n",
            "116 110108.6      78365.50       31743.12 7804806.5\n",
            "117 110108.6      78048.07       32060.55 7772746.0\n",
            "118 110108.6      77727.46       32381.15 7740364.8\n",
            "119 110108.6      77403.65       32704.97 7707659.8\n",
            "120 110108.6      77076.60       33032.01 7674627.8\n",
            "121 110108.6      76746.28       33362.34 7641265.5\n",
            "122 110108.6      76412.65       33695.96 7607569.5\n",
            "123 110108.6      76075.70       34032.92 7573536.6\n",
            "124 110108.6      75735.37       34373.25 7539163.4\n",
            "125 110108.6      75391.63       34716.98 7504446.4\n",
            "126 110108.6      75044.46       35064.15 7469382.2\n",
            "127 110108.6      74693.82       35414.79 7433967.5\n",
            "128 110108.6      74339.67       35768.94 7398198.5\n",
            "129 110108.6      73981.99       36126.63 7362071.9\n",
            "130 110108.6      73620.72       36487.89 7325584.0\n",
            "131 110108.6      73255.84       36852.77 7288731.2\n",
            "132 110108.6      72887.31       37221.30 7251509.9\n",
            "133 110108.6      72515.10       37593.51 7213916.4\n",
            "134 110108.6      72139.16       37969.45 7175947.0\n",
            "135 110108.6      71759.47       38349.14 7137597.8\n",
            "136 110108.6      71375.98       38732.64 7098865.2\n",
            "137 110108.6      70988.65       39119.96 7059745.2\n",
            "138 110108.6      70597.45       39511.16 7020234.0\n",
            "139 110108.6      70202.34       39906.27 6980327.8\n",
            "140 110108.6      69803.28       40305.34 6940022.4\n",
            "141 110108.6      69400.22       40708.39 6899314.0\n",
            "142 110108.6      68993.14       41115.47 6858198.6\n",
            "143 110108.6      68581.99       41526.63 6816672.0\n",
            "144 110108.6      68166.72       41941.89 6774730.1\n",
            "145 110108.6      67747.30       42361.31 6732368.8\n",
            "146 110108.6      67323.69       42784.93 6689583.8\n",
            "147 110108.6      66895.84       43212.78 6646371.0\n",
            "148 110108.6      66463.71       43644.90 6602726.1\n",
            "149 110108.6      66027.26       44081.35 6558644.8\n",
            "150 110108.6      65586.45       44522.17 6514122.6\n",
            "151 110108.6      65141.23       44967.39 6469155.2\n",
            "152 110108.6      64691.55       45417.06 6423738.2\n",
            "153 110108.6      64237.38       45871.23 6377867.0\n",
            "154 110108.6      63778.67       46329.94 6331537.0\n",
            "155 110108.6      63315.37       46793.24 6284743.8\n",
            "156 110108.6      62847.44       47261.18 6237482.6\n",
            "157 110108.6      62374.83       47733.79 6189748.8\n",
            "158 110108.6      61897.49       48211.13 6141537.7\n",
            "159 110108.6      61415.38       48693.24 6092844.4\n",
            "160 110108.6      60928.44       49180.17 6043664.3\n",
            "161 110108.6      60436.64       49671.97 5993992.3\n",
            "162 110108.6      59939.92       50168.69 5943823.6\n",
            "163 110108.6      59438.24       50670.38 5893153.2\n",
            "164 110108.6      58931.53       51177.08 5841976.1\n",
            "165 110108.6      58419.76       51688.85 5790287.3\n",
            "166 110108.6      57902.87       52205.74 5738081.5\n",
            "167 110108.6      57380.82       52727.80 5685353.8\n",
            "168 110108.6      56853.54       53255.08 5632098.7\n",
            "169 110108.6      56320.99       53787.63 5578311.0\n",
            "170 110108.6      55783.11       54325.50 5523985.5\n",
            "171 110108.6      55239.86       54868.76 5469116.8\n",
            "172 110108.6      54691.17       55417.45 5413699.3\n",
            "173 110108.6      54136.99       55971.62 5357727.7\n",
            "174 110108.6      53577.28       56531.34 5301196.4\n",
            "175 110108.6      53011.96       57096.65 5244099.7\n",
            "176 110108.6      52441.00       57667.62 5186432.1\n",
            "177 110108.6      51864.32       58244.29 5128187.8\n",
            "178 110108.6      51281.88       58826.74 5069361.1\n",
            "179 110108.6      50693.61       59415.00 5009946.1\n",
            "180 110108.6      50099.46       60009.15 4949936.9\n",
            "181 110108.6      49499.37       60609.24 4889327.7\n",
            "182 110108.6      48893.28       61215.34 4828112.4\n",
            "183 110108.6      48281.12       61827.49 4766284.9\n",
            "184 110108.6      47662.85       62445.76 4703839.1\n",
            "185 110108.6      47038.39       63070.22 4640768.9\n",
            "186 110108.6      46407.69       63700.92 4577068.0\n",
            "187 110108.6      45770.68       64337.93 4512730.0\n",
            "188 110108.6      45127.30       64981.31 4447748.7\n",
            "189 110108.6      44477.49       65631.13 4382117.6\n",
            "190 110108.6      43821.18       66287.44 4315830.2\n",
            "191 110108.6      43158.30       66950.31 4248879.8\n",
            "192 110108.6      42488.80       67619.81 4181260.0\n",
            "193 110108.6      41812.60       68296.01 4112964.0\n",
            "194 110108.6      41129.64       68978.97 4043985.0\n",
            "195 110108.6      40439.85       69668.76 3974316.3\n",
            "196 110108.6      39743.16       70365.45 3903950.8\n",
            "197 110108.6      39039.51       71069.11 3832881.7\n",
            "198 110108.6      38328.82       71779.80 3761101.9\n",
            "199 110108.6      37611.02       72497.59 3688604.3\n",
            "200 110108.6      36886.04       73222.57 3615381.8\n",
            "201 110108.6      36153.82       73954.80 3541427.0\n",
            "202 110108.6      35414.27       74694.34 3466732.6\n",
            "203 110108.6      34667.33       75441.29 3391291.3\n",
            "204 110108.6      33912.91       76195.70 3315095.6\n",
            "205 110108.6      33150.96       76957.66 3238138.0\n",
            "206 110108.6      32381.38       77727.23 3160410.7\n",
            "207 110108.6      31604.11       78504.51 3081906.2\n",
            "208 110108.6      30819.06       79289.55 3002616.7\n",
            "209 110108.6      30026.17       80082.45 2922534.2\n",
            "210 110108.6      29225.34       80883.27 2841651.0\n",
            "211 110108.6      28416.51       81692.10 2759958.9\n",
            "212 110108.6      27599.59       82509.02 2677449.8\n",
            "213 110108.6      26774.50       83334.11 2594115.7\n",
            "214 110108.6      25941.16       84167.46 2509948.3\n",
            "215 110108.6      25099.48       85009.13 2424939.1\n",
            "216 110108.6      24249.39       85859.22 2339079.9\n",
            "217 110108.6      23390.80       86717.81 2252362.1\n",
            "218 110108.6      22523.62       87584.99 2164777.1\n",
            "219 110108.6      21647.77       88460.84 2076316.3\n",
            "220 110108.6      20763.16       89345.45 1986970.8\n",
            "221 110108.6      19869.71       90238.91 1896731.9\n",
            "222 110108.6      18967.32       91141.29 1805590.6\n",
            "223 110108.6      18055.91       92052.71 1713537.9\n",
            "224 110108.6      17135.38       92973.23 1620564.7\n",
            "225 110108.6      16205.65       93902.97 1526661.7\n",
            "226 110108.6      15266.62       94842.00 1431819.7\n",
            "227 110108.6      14318.20       95790.42 1336029.3\n",
            "228 110108.6      13360.29       96748.32 1239281.0\n",
            "229 110108.6      12392.81       97715.80 1141565.2\n",
            "230 110108.6      11415.65       98692.96 1042872.2\n",
            "231 110108.6      10428.72       99679.89  943192.3\n",
            "232 110108.6       9431.92      100676.69  842515.6\n",
            "233 110108.6       8425.16      101683.46  740832.2\n",
            "234 110108.6       7408.32      102700.29  638131.9\n",
            "235 110108.6       6381.32      103727.29  534404.6\n",
            "236 110108.6       5344.05      104764.57  429640.0\n",
            "237 110108.6       4296.40      105812.21  323827.8\n",
            "238 110108.6       3238.28      106870.34  216957.5\n",
            "239 110108.6       2169.57      107939.04  109018.4\n",
            "240 110108.6       1090.18      109018.43       0.0\n",
            "\n",
            "$Other\n",
            "                   Details\n",
            "Loan           10000000.00\n",
            "Total Paid     26426067.21\n",
            "Total Interest 16426067.21\n",
            "Eff Rate              0.01\n",
            "\n"
          ]
        }
      ]
    },
    {
      "cell_type": "markdown",
      "source": [
        "Save the amortization table as a CSV file for further analysis\n",
        "or to be opened in spreadsheet software like Excel."
      ],
      "metadata": {
        "id": "X8BkThUCWsZ5"
      }
    },
    {
      "cell_type": "code",
      "source": [
        "write.csv(tab1, file = \"tab1.csv\")"
      ],
      "metadata": {
        "id": "SpGSJGMvWvpP"
      },
      "execution_count": null,
      "outputs": []
    },
    {
      "cell_type": "code",
      "source": [
        "amort.table(Loan=NA, pmt=100, n=7, i=.05, plot=TRUE)\n"
      ],
      "metadata": {
        "id": "AXnQgkhIWr7I",
        "outputId": "789740f0-4cfb-4beb-e907-bcdf8b6b02be",
        "colab": {
          "base_uri": "https://localhost:8080/",
          "height": 943
        }
      },
      "execution_count": null,
      "outputs": [
        {
          "output_type": "display_data",
          "data": {
            "text/html": [
              "<dl>\n",
              "\t<dt>$Schedule</dt>\n",
              "\t\t<dd><table class=\"dataframe\">\n",
              "<caption>A matrix: 7 × 4 of type dbl</caption>\n",
              "<thead>\n",
              "\t<tr><th></th><th scope=col>Payment</th><th scope=col>Interest Paid</th><th scope=col>Principal Paid</th><th scope=col>Balance</th></tr>\n",
              "</thead>\n",
              "<tbody>\n",
              "\t<tr><th scope=row>1</th><td>100</td><td>28.93</td><td>71.07</td><td>507.57</td></tr>\n",
              "\t<tr><th scope=row>2</th><td>100</td><td>25.38</td><td>74.62</td><td>432.95</td></tr>\n",
              "\t<tr><th scope=row>3</th><td>100</td><td>21.65</td><td>78.35</td><td>354.60</td></tr>\n",
              "\t<tr><th scope=row>4</th><td>100</td><td>17.73</td><td>82.27</td><td>272.32</td></tr>\n",
              "\t<tr><th scope=row>5</th><td>100</td><td>13.62</td><td>86.38</td><td>185.94</td></tr>\n",
              "\t<tr><th scope=row>6</th><td>100</td><td> 9.30</td><td>90.70</td><td> 95.24</td></tr>\n",
              "\t<tr><th scope=row>7</th><td>100</td><td> 4.76</td><td>95.24</td><td>  0.00</td></tr>\n",
              "</tbody>\n",
              "</table>\n",
              "</dd>\n",
              "\t<dt>$Other</dt>\n",
              "\t\t<dd><table class=\"dataframe\">\n",
              "<caption>A matrix: 4 × 1 of type dbl</caption>\n",
              "<thead>\n",
              "\t<tr><th></th><th scope=col>Details</th></tr>\n",
              "</thead>\n",
              "<tbody>\n",
              "\t<tr><th scope=row>Loan</th><td>578.6373</td></tr>\n",
              "\t<tr><th scope=row>Total Paid</th><td>700.0000</td></tr>\n",
              "\t<tr><th scope=row>Total Interest</th><td>121.3600</td></tr>\n",
              "\t<tr><th scope=row>Eff Rate</th><td>  0.0500</td></tr>\n",
              "</tbody>\n",
              "</table>\n",
              "</dd>\n",
              "</dl>\n"
            ],
            "text/markdown": "$Schedule\n:   \nA matrix: 7 × 4 of type dbl\n\n| <!--/--> | Payment | Interest Paid | Principal Paid | Balance |\n|---|---|---|---|---|\n| 1 | 100 | 28.93 | 71.07 | 507.57 |\n| 2 | 100 | 25.38 | 74.62 | 432.95 |\n| 3 | 100 | 21.65 | 78.35 | 354.60 |\n| 4 | 100 | 17.73 | 82.27 | 272.32 |\n| 5 | 100 | 13.62 | 86.38 | 185.94 |\n| 6 | 100 |  9.30 | 90.70 |  95.24 |\n| 7 | 100 |  4.76 | 95.24 |   0.00 |\n\n\n$Other\n:   \nA matrix: 4 × 1 of type dbl\n\n| <!--/--> | Details |\n|---|---|\n| Loan | 578.6373 |\n| Total Paid | 700.0000 |\n| Total Interest | 121.3600 |\n| Eff Rate |   0.0500 |\n\n\n\n\n",
            "text/latex": "\\begin{description}\n\\item[\\$Schedule] A matrix: 7 × 4 of type dbl\n\\begin{tabular}{r|llll}\n  & Payment & Interest Paid & Principal Paid & Balance\\\\\n\\hline\n\t1 & 100 & 28.93 & 71.07 & 507.57\\\\\n\t2 & 100 & 25.38 & 74.62 & 432.95\\\\\n\t3 & 100 & 21.65 & 78.35 & 354.60\\\\\n\t4 & 100 & 17.73 & 82.27 & 272.32\\\\\n\t5 & 100 & 13.62 & 86.38 & 185.94\\\\\n\t6 & 100 &  9.30 & 90.70 &  95.24\\\\\n\t7 & 100 &  4.76 & 95.24 &   0.00\\\\\n\\end{tabular}\n\n\\item[\\$Other] A matrix: 4 × 1 of type dbl\n\\begin{tabular}{r|l}\n  & Details\\\\\n\\hline\n\tLoan & 578.6373\\\\\n\tTotal Paid & 700.0000\\\\\n\tTotal Interest & 121.3600\\\\\n\tEff Rate &   0.0500\\\\\n\\end{tabular}\n\n\\end{description}\n",
            "text/plain": [
              "$Schedule\n",
              "  Payment Interest Paid Principal Paid Balance\n",
              "1     100         28.93          71.07  507.57\n",
              "2     100         25.38          74.62  432.95\n",
              "3     100         21.65          78.35  354.60\n",
              "4     100         17.73          82.27  272.32\n",
              "5     100         13.62          86.38  185.94\n",
              "6     100          9.30          90.70   95.24\n",
              "7     100          4.76          95.24    0.00\n",
              "\n",
              "$Other\n",
              "                Details\n",
              "Loan           578.6373\n",
              "Total Paid     700.0000\n",
              "Total Interest 121.3600\n",
              "Eff Rate         0.0500\n"
            ]
          },
          "metadata": {}
        },
        {
          "output_type": "display_data",
          "data": {
            "text/plain": [
              "Plot with title “Percentage of Payment\n",
              "Toward Interest”"
            ],
            "image/png": "[encoded data removed]"
          },
          "metadata": {
            "image/png": {
              "width": 420,
              "height": 420
            }
          }
        }
      ]
    }
  ]
}